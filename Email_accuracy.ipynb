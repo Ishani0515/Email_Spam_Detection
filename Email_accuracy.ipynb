{
 "cells": [
  {
   "cell_type": "code",
   "execution_count": null,
   "id": "04b33f49-4494-4d25-9608-478ae05a375c",
   "metadata": {},
   "outputs": [
    {
     "name": "stdout",
     "output_type": "stream",
     "text": [
      "Dataset Overview:\n",
      "<class 'pandas.core.frame.DataFrame'>\n",
      "RangeIndex: 5728 entries, 0 to 5727\n",
      "Data columns (total 2 columns):\n",
      " #   Column  Non-Null Count  Dtype \n",
      "---  ------  --------------  ----- \n",
      " 0   text    5728 non-null   object\n",
      " 1   spam    5728 non-null   int64 \n",
      "dtypes: int64(1), object(1)\n",
      "memory usage: 89.6+ KB\n",
      "\n",
      "Missing Values:\n",
      "text    0\n",
      "spam    0\n",
      "dtype: int64\n",
      "Classification Report:\n",
      "              precision    recall  f1-score   support\n",
      "\n",
      "           0       0.96      1.00      0.98      1063\n",
      "           1       0.99      0.88      0.93       369\n",
      "\n",
      "    accuracy                           0.97      1432\n",
      "   macro avg       0.97      0.94      0.95      1432\n",
      "weighted avg       0.97      0.97      0.97      1432\n",
      "\n",
      "Confusion Matrix:\n"
     ]
    },
    {
     "data": {
      "image/png": "[encoded data removed]",
      "text/plain": [
       "<Figure size 640x480 with 2 Axes>"
      ]
     },
     "metadata": {},
     "output_type": "display_data"
    },
    {
     "name": "stdout",
     "output_type": "stream",
     "text": [
      "Accuracy: 96.65%\n"
     ]
    }
   ],
   "source": [
    "# Import necessary libraries\n",
    "import numpy as np\n",
    "import pandas as pd\n",
    "import matplotlib.pyplot as plt\n",
    "import seaborn as sns\n",
    "from sklearn.model_selection import train_test_split\n",
    "from sklearn.feature_extraction.text import TfidfVectorizer\n",
    "from sklearn.naive_bayes import MultinomialNB\n",
    "from sklearn.metrics import classification_report, confusion_matrix, accuracy_score\n",
    "from nltk.corpus import stopwords\n",
    "from nltk.tokenize import word_tokenize\n",
    "from nltk.stem import Pl./orterStemmer\n",
    "import string\n",
    "import re\n",
    "import nltk\n",
    "\n",
    "# Download NLTK data files\n",
    "try:\n",
    "    nltk.data.find('tokenizers/punkt')\n",
    "except LookupError:\n",
    "    nltk.download('punkt')\n",
    "\n",
    "try:\n",
    "    nltk.data.find('corpora/stopwords')\n",
    "except LookupError:\n",
    "    nltk.download('stopwords')\n",
    "\n",
    "\n",
    "# Load dataset\n",
    "data = pd.read_csv(r'C:\\Users\\KIIT\\Documents\\Jupyter Notebook\\EmailSpam_Detection\\email-classification-flask-main\\emails.csv')\n",
    "\n",
    "# Display basic information\n",
    "print(\"Dataset Overview:\")\n",
    "data.info()\n",
    "\n",
    "# Check for missing values\n",
    "print(\"\\nMissing Values:\")\n",
    "print(data.isnull().sum())\n",
    "\n",
    "# Preprocessing Function\n",
    "def preprocess_text(text):\n",
    "    text = str(text).lower()  # Lowercase and handle NaN\n",
    "    text = re.sub(r'\\d+', '', text)  # Remove digits\n",
    "    text = text.translate(str.maketrans('', '', string.punctuation))  # Remove punctuation\n",
    "    tokens = word_tokenize(text)\n",
    "    tokens = [word for word in tokens if word not in stopwords.words('english')]  # Remove stopwords\n",
    "    stemmer = PorterStemmer()\n",
    "    tokens = [stemmer.stem(word) for word in tokens]  # Stemming\n",
    "    return \" \".join(tokens)\n",
    "\n",
    "# Apply preprocessing to email body\n",
    "data['Processed_Body'] = data['text'].apply(preprocess_text)\n",
    "\n",
    "# Extract Subject from text column\n",
    "def extract_subject(text):\n",
    "    text = str(text)\n",
    "    if text.startswith(\"Subject:\"):\n",
    "        return text[8:].split('\\n')[0]  # Extract subject and remove newline\n",
    "    else:\n",
    "        return \"\"  # Return empty string if no subject\n",
    "\n",
    "data['Subject'] = data['text'].apply(extract_subject)\n",
    "\n",
    "# Analyze subject lines and sender information for feature extraction\n",
    "data['Subject'] = data['Subject'].fillna('')  # Fill NaN values in 'Subject'\n",
    "data['Subject_Length'] = data['Subject'].apply(lambda x: len(str(x)))\n",
    "\n",
    "# Extract From (Sender) from text column\n",
    "def extract_sender(text):\n",
    "    text = str(text)\n",
    "    # Basic extraction - improve as needed\n",
    "    match = re.search(r\"[\\w\\.-]+@[\\w\\.-]+\", text)\n",
    "    if match:\n",
    "        return match.group(0)\n",
    "    else:\n",
    "        return \"\"\n",
    "\n",
    "\n",
    "data['From'] = data['text'].apply(extract_sender) # Extract sender from text\n",
    "data['From'] = data['From'].fillna('')\n",
    "data['Sender_Importance'] = data['From'].apply(lambda x: 1 if 'admin' in str(x).lower() or 'support' in str(x).lower() else 0)\n",
    "\n",
    "# Feature extraction using TF-IDF\n",
    "vectorizer = TfidfVectorizer(max_features=3000)\n",
    "X = vectorizer.fit_transform(data['Processed_Body']).toarray()\n",
    "\n",
    "# Combine features\n",
    "X_combined = np.hstack((X, data[['Subject_Length', 'Sender_Importance']].values))\n",
    "\n",
    "# Target variable\n",
    "y = data['spam']\n",
    "\n",
    "# Split data into training and test sets\n",
    "X_train, X_test, y_train, y_test = train_test_split(X_combined, y, test_size=0.25, random_state=42)\n",
    "\n",
    "# Train a Naive Bayes model\n",
    "model = MultinomialNB()\n",
    "model.fit(X_train, y_train)\n",
    "\n",
    "# Make predictions\n",
    "y_pred = model.predict(X_test)\n",
    "\n",
    "# Evaluate the model\n",
    "print(\"Classification Report:\")\n",
    "print(classification_report(y_test, y_pred))\n",
    "\n",
    "print(\"Confusion Matrix:\")\n",
    "cm = confusion_matrix(y_test, y_pred)\n",
    "sns.heatmap(cm, annot=True, fmt='d')\n",
    "plt.xlabel(\"Predicted\")\n",
    "plt.ylabel(\"Actual\")\n",
    "plt.title(\"Confusion Matrix\")\n",
    "plt.show()\n",
    "\n",
    "print(f\"Accuracy: {accuracy_score(y_test, y_pred) * 100:.2f}%\")\n",
    "\n"
   ]
  },
  {
   "cell_type": "code",
   "execution_count": 2,
   "id": "62e2b0a1-2a31-4717-8d98-8fa7d370ec57",
   "metadata": {},
   "outputs": [],
   "source": [
    "# Real-time prediction function\n",
    "def classify_email(email_subject, email_body, email_sender):\n",
    "    processed_body = preprocess_text(email_body)\n",
    "    vectorized_body = vectorizer.transform([processed_body]).toarray()\n",
    "    subject_length = len(str(email_subject))\n",
    "    sender_importance = 1 if 'admin' in str(email_sender).lower() or 'support' in str(email_sender).lower() else 0\n",
    "    combined_features = np.hstack((vectorized_body, [[subject_length, sender_importance]]))\n",
    "    prediction = model.predict(combined_features)\n",
    "    return \"Spam\" if prediction[0] == 1 else \"Not Spam\"\n",
    "\n"
   ]
  },
  {
   "cell_type": "code",
   "execution_count": 3,
   "id": "8b313b63-d994-4148-854d-72a8b2dd96d4",
   "metadata": {
    "scrolled": true
   },
   "outputs": [
    {
     "name": "stdout",
     "output_type": "stream",
     "text": [
      "Enter the email subject:  Urgent: Your Account is Suspended!  \n",
      "Enter the email body:  Dear Customer,    We have detected suspicious activity on your bank account. Please verify your identity immediately by clicking the link below:    [Click Here to Verify](http://fakebank.com/login)    Failure to do so will result in your account being locked.    Regards,   Bank Security Team \n",
      "Enter the email sender:  security@bankalerts.com \n"
     ]
    },
    {
     "name": "stdout",
     "output_type": "stream",
     "text": [
      "Prediction: Spam\n"
     ]
    }
   ],
   "source": [
    "# Example real-time prediction\n",
    "email_subject = input(\"Enter the email subject: \")\n",
    "email_body = input(\"Enter the email body: \")\n",
    "email_sender = input(\"Enter the email sender: \")\n",
    "print(f\"Prediction: {classify_email(email_subject, email_body, email_sender)}\")\n"
   ]
  }
 ],
 "metadata": {
  "kernelspec": {
   "display_name": "Python [conda env:base] *",
   "language": "python",
   "name": "conda-base-py"
  },
  "language_info": {
   "codemirror_mode": {
    "name": "ipython",
    "version": 3
   },
   "file_extension": ".py",
   "mimetype": "text/x-python",
   "name": "python",
   "nbconvert_exporter": "python",
   "pygments_lexer": "ipython3",
   "version": "3.12.4"
  }
 },
 "nbformat": 4,
 "nbformat_minor": 5
}
